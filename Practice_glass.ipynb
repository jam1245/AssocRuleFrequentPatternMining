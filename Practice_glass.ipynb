{
 "cells": [
  {
   "cell_type": "markdown",
   "metadata": {},
   "source": [
    "## Module 2 Practice"
   ]
  },
  {
   "cell_type": "markdown",
   "metadata": {},
   "source": [
    "**Activity 1: ** Read the glass data file from **/datasets/glass/glass.txt**. Get the names of glass dataset columns from readme file in **/datasets/glass/header.txt** and assign the names to columns of glass_data"
   ]
  },
  {
   "cell_type": "code",
   "execution_count": 3,
   "metadata": {
    "collapsed": false
   },
   "outputs": [],
   "source": [
    "## Your code for activity 1 goes here\n",
    "\n",
    "glass_data = read.csv(\"../../../datasets/glass/glass.txt\",header=FALSE)"
   ]
  },
  {
   "cell_type": "code",
   "execution_count": 4,
   "metadata": {
    "collapsed": true
   },
   "outputs": [],
   "source": [
    "names=c(\"Id\",\"refractive_index\",\"Sodium\",\"Magnesium\",\"Aluminum\",\"Silicon\",\"Potassium\",\"Calcium\",\"Barium\",\"Iron\",\"Type_of_glass\")"
   ]
  },
  {
   "cell_type": "code",
   "execution_count": 5,
   "metadata": {
    "collapsed": false
   },
   "outputs": [
    {
     "data": {
      "text/html": [
       "<table>\n",
       "<thead><tr><th scope=col>Id</th><th scope=col>refractive_index</th><th scope=col>Sodium</th><th scope=col>Magnesium</th><th scope=col>Aluminum</th><th scope=col>Silicon</th><th scope=col>Potassium</th><th scope=col>Calcium</th><th scope=col>Barium</th><th scope=col>Iron</th><th scope=col>Type_of_glass</th></tr></thead>\n",
       "<tbody>\n",
       "\t<tr><td>1      </td><td>1.52101</td><td>13.64  </td><td>4.49   </td><td>1.10   </td><td>71.78  </td><td>0.06   </td><td>8.75   </td><td>0      </td><td>0.00   </td><td>1      </td></tr>\n",
       "\t<tr><td>2      </td><td>1.51761</td><td>13.89  </td><td>3.60   </td><td>1.36   </td><td>72.73  </td><td>0.48   </td><td>7.83   </td><td>0      </td><td>0.00   </td><td>1      </td></tr>\n",
       "\t<tr><td>3      </td><td>1.51618</td><td>13.53  </td><td>3.55   </td><td>1.54   </td><td>72.99  </td><td>0.39   </td><td>7.78   </td><td>0      </td><td>0.00   </td><td>1      </td></tr>\n",
       "\t<tr><td>4      </td><td>1.51766</td><td>13.21  </td><td>3.69   </td><td>1.29   </td><td>72.61  </td><td>0.57   </td><td>8.22   </td><td>0      </td><td>0.00   </td><td>1      </td></tr>\n",
       "\t<tr><td>5      </td><td>1.51742</td><td>13.27  </td><td>3.62   </td><td>1.24   </td><td>73.08  </td><td>0.55   </td><td>8.07   </td><td>0      </td><td>0.00   </td><td>1      </td></tr>\n",
       "\t<tr><td>6      </td><td>1.51596</td><td>12.79  </td><td>3.61   </td><td>1.62   </td><td>72.97  </td><td>0.64   </td><td>8.07   </td><td>0      </td><td>0.26   </td><td>1      </td></tr>\n",
       "</tbody>\n",
       "</table>\n"
      ],
      "text/latex": [
       "\\begin{tabular}{r|lllllllllll}\n",
       " Id & refractive\\_index & Sodium & Magnesium & Aluminum & Silicon & Potassium & Calcium & Barium & Iron & Type\\_of\\_glass\\\\\n",
       "\\hline\n",
       "\t 1       & 1.52101 & 13.64   & 4.49    & 1.10    & 71.78   & 0.06    & 8.75    & 0       & 0.00    & 1      \\\\\n",
       "\t 2       & 1.51761 & 13.89   & 3.60    & 1.36    & 72.73   & 0.48    & 7.83    & 0       & 0.00    & 1      \\\\\n",
       "\t 3       & 1.51618 & 13.53   & 3.55    & 1.54    & 72.99   & 0.39    & 7.78    & 0       & 0.00    & 1      \\\\\n",
       "\t 4       & 1.51766 & 13.21   & 3.69    & 1.29    & 72.61   & 0.57    & 8.22    & 0       & 0.00    & 1      \\\\\n",
       "\t 5       & 1.51742 & 13.27   & 3.62    & 1.24    & 73.08   & 0.55    & 8.07    & 0       & 0.00    & 1      \\\\\n",
       "\t 6       & 1.51596 & 12.79   & 3.61    & 1.62    & 72.97   & 0.64    & 8.07    & 0       & 0.26    & 1      \\\\\n",
       "\\end{tabular}\n"
      ],
      "text/plain": [
       "  Id refractive_index Sodium Magnesium Aluminum Silicon Potassium Calcium\n",
       "1 1  1.52101          13.64  4.49      1.10     71.78   0.06      8.75   \n",
       "2 2  1.51761          13.89  3.60      1.36     72.73   0.48      7.83   \n",
       "3 3  1.51618          13.53  3.55      1.54     72.99   0.39      7.78   \n",
       "4 4  1.51766          13.21  3.69      1.29     72.61   0.57      8.22   \n",
       "5 5  1.51742          13.27  3.62      1.24     73.08   0.55      8.07   \n",
       "6 6  1.51596          12.79  3.61      1.62     72.97   0.64      8.07   \n",
       "  Barium Iron Type_of_glass\n",
       "1 0      0.00 1            \n",
       "2 0      0.00 1            \n",
       "3 0      0.00 1            \n",
       "4 0      0.00 1            \n",
       "5 0      0.00 1            \n",
       "6 0      0.26 1            "
      ]
     },
     "metadata": {},
     "output_type": "display_data"
    }
   ],
   "source": [
    "names(glass_data)=names\n",
    "head(glass_data)"
   ]
  },
  {
   "cell_type": "code",
   "execution_count": null,
   "metadata": {
    "collapsed": false
   },
   "outputs": [],
   "source": [
    "summary(glass_data)"
   ]
  },
  {
   "cell_type": "markdown",
   "metadata": {},
   "source": [
    "### Data Processing"
   ]
  },
  {
   "cell_type": "markdown",
   "metadata": {},
   "source": [
    "The data should be cleaned as it has unnecessary columns and numeric data should be converted to ordered factors.\n",
    "\n",
    "**Activity 2: **  Remove the two attribute **Id** as it is just an identifier. All the other attributes are either numeric or integer. Map the attributes to ordinal attributes by building suitable categories like low, medium, high or very high."
   ]
  },
  {
   "cell_type": "code",
   "execution_count": null,
   "metadata": {
    "collapsed": true
   },
   "outputs": [],
   "source": [
    "## Your code for activity 2 goes here\n",
    "\n",
    "glass_data[[\"Id\"]] <- NULL"
   ]
  },
  {
   "cell_type": "code",
   "execution_count": null,
   "metadata": {
    "collapsed": false
   },
   "outputs": [],
   "source": [
    "glass_data[[\"refractive_index\"]] <- ordered(cut(glass_data[[\"refractive_index\"]], c(1.51,1.515,1.518,1.52,1.53)), labels = c(\"low\", \"medium\", \"high\",\"very high\"))"
   ]
  },
  {
   "cell_type": "code",
   "execution_count": null,
   "metadata": {
    "collapsed": true
   },
   "outputs": [],
   "source": [
    "glass_data[[\"Sodium\"]] <- ordered(cut(glass_data[[\"Sodium\"]], c(10,12,14,16,18)), labels = c(\"low\", \"medium\", \"high\",\"very high\"))"
   ]
  },
  {
   "cell_type": "code",
   "execution_count": null,
   "metadata": {
    "collapsed": false
   },
   "outputs": [],
   "source": [
    "glass_data[[\"Magnesium\"]] <- ordered(cut(glass_data[[\"Magnesium\"]], c(0,1,2,3,5)), labels = c(\"low\", \"medium\", \"high\",\"very high\"))"
   ]
  },
  {
   "cell_type": "code",
   "execution_count": null,
   "metadata": {
    "collapsed": true
   },
   "outputs": [],
   "source": [
    "glass_data[[\"Aluminum\"]] <- ordered(cut(glass_data[[\"Aluminum\"]], c(0,1,2,3,4)), labels = c(\"low\", \"medium\", \"high\",\"very high\"))"
   ]
  },
  {
   "cell_type": "code",
   "execution_count": null,
   "metadata": {
    "collapsed": true
   },
   "outputs": [],
   "source": [
    "glass_data[[\"Silicon\"]] <- ordered(cut(glass_data[[\"Silicon\"]], c(69,72,74,76)), labels = c(\"low\", \"medium\", \"high\"))"
   ]
  },
  {
   "cell_type": "code",
   "execution_count": null,
   "metadata": {
    "collapsed": true
   },
   "outputs": [],
   "source": [
    "glass_data[[\"Potassium\"]] <- ordered(cut(glass_data[[\"Potassium\"]], c(0,0.2,0.5,1,7)), labels = c(\"low\", \"medium\", \"high\",\"very high\"))"
   ]
  },
  {
   "cell_type": "code",
   "execution_count": null,
   "metadata": {
    "collapsed": true
   },
   "outputs": [],
   "source": [
    "glass_data[[\"Calcium\"]] <- ordered(cut(glass_data[[\"Calcium\"]], c(5,8,10,17)), labels = c(\"low\", \"medium\", \"high\"))"
   ]
  },
  {
   "cell_type": "code",
   "execution_count": null,
   "metadata": {
    "collapsed": true
   },
   "outputs": [],
   "source": [
    "glass_data[[\"Barium\"]] <- ordered(cut(glass_data[[\"Barium\"]], c(0,0.1,0.5,4)), labels = c(\"low\", \"medium\", \"high\"))"
   ]
  },
  {
   "cell_type": "code",
   "execution_count": null,
   "metadata": {
    "collapsed": true
   },
   "outputs": [],
   "source": [
    "glass_data[[\"Iron\"]] <- ordered(cut(glass_data[[\"Iron\"]], c(0,0.05,0.1,1)), labels = c(\"low\", \"medium\", \"high\"))"
   ]
  },
  {
   "cell_type": "markdown",
   "metadata": {},
   "source": [
    "since Type_of_glass is integer type, convert it to numeric type"
   ]
  },
  {
   "cell_type": "code",
   "execution_count": null,
   "metadata": {
    "collapsed": false
   },
   "outputs": [],
   "source": [
    "glass_data[[\"Type_of_glass\"]] = as.numeric(glass_data[[\"Type_of_glass\"]])"
   ]
  },
  {
   "cell_type": "code",
   "execution_count": null,
   "metadata": {
    "collapsed": false
   },
   "outputs": [],
   "source": [
    "class(glass_data[[\"Type_of_glass\"]])"
   ]
  },
  {
   "cell_type": "code",
   "execution_count": null,
   "metadata": {
    "collapsed": false
   },
   "outputs": [],
   "source": [
    "# glass_data[[\"Type_of_glass\"]] <- ordered(cut(glass_data[[\"Type_of_glass\"]], c(0,1,2,3,4,5,6)), labels = c(\"building_windows_float_processed\", \"building_windows_non_float_processed\", \"vehicle_windows_float_processed\",\"vehicle_windows_non_float_processed\",\"containers\",\"tableware\",\"headlamps\"))"
   ]
  },
  {
   "cell_type": "markdown",
   "metadata": {},
   "source": [
    "The dataset doesn't has values for glass type 4. So you cannot ask R to labels for a value that doesn't exist. Look at the result of unique() on Type_of_glass column. 4 doesn't exist in the list."
   ]
  },
  {
   "cell_type": "code",
   "execution_count": null,
   "metadata": {
    "collapsed": false
   },
   "outputs": [],
   "source": [
    "unique(glass_data[[\"Type_of_glass\"]])"
   ]
  },
  {
   "cell_type": "code",
   "execution_count": null,
   "metadata": {
    "collapsed": false
   },
   "outputs": [],
   "source": [
    "glass_data[glass_data[\"Type_of_glass\"]==4,]"
   ]
  },
  {
   "cell_type": "code",
   "execution_count": null,
   "metadata": {
    "collapsed": false
   },
   "outputs": [],
   "source": [
    "glass_data[[\"Type_of_glass\"]] <- ordered(cut(glass_data[[\"Type_of_glass\"]], c(0,1,2,3,5,6,7)), labels = c(\"building_windows_float_processed\", \"building_windows_non_float_processed\", \"vehicle_windows_float_processed\",\"containers\",\"tableware\",\"headlamps\"))"
   ]
  },
  {
   "cell_type": "markdown",
   "metadata": {},
   "source": [
    "**Activity 3: ** Now, recode the data as a binary incidence matrix by coercing the data set to transactions. save the transactions to glass_trans variable."
   ]
  },
  {
   "cell_type": "code",
   "execution_count": null,
   "metadata": {
    "collapsed": false
   },
   "outputs": [],
   "source": [
    "## Your code for activity 3 goes here\n",
    "\n",
    "library(\"arules\")"
   ]
  },
  {
   "cell_type": "code",
   "execution_count": null,
   "metadata": {
    "collapsed": false
   },
   "outputs": [],
   "source": [
    "glass_trans <- as(glass_data, \"transactions\")\n",
    "glass_trans"
   ]
  },
  {
   "cell_type": "code",
   "execution_count": null,
   "metadata": {
    "collapsed": false
   },
   "outputs": [],
   "source": [
    "summary(glass_trans)"
   ]
  },
  {
   "cell_type": "markdown",
   "metadata": {},
   "source": [
    "**Activity 4: ** Draw a frequency plot for the generated transactions with a support of 0.1"
   ]
  },
  {
   "cell_type": "code",
   "execution_count": null,
   "metadata": {
    "collapsed": false
   },
   "outputs": [],
   "source": [
    "itemFrequencyPlot(glass_trans, support = 0.1, cex.names=0.8)"
   ]
  },
  {
   "cell_type": "code",
   "execution_count": null,
   "metadata": {
    "collapsed": false
   },
   "outputs": [],
   "source": [
    "rules <- apriori(glass_trans, parameter = list(support = 0.1, confidence = 0.6))"
   ]
  },
  {
   "cell_type": "code",
   "execution_count": null,
   "metadata": {
    "collapsed": false
   },
   "outputs": [],
   "source": [
    "rules"
   ]
  },
  {
   "cell_type": "code",
   "execution_count": null,
   "metadata": {
    "collapsed": false
   },
   "outputs": [],
   "source": [
    "summary(rules)"
   ]
  },
  {
   "cell_type": "markdown",
   "metadata": {},
   "source": [
    "** Activity 5:** Display the first three rules using inspect function."
   ]
  },
  {
   "cell_type": "code",
   "execution_count": null,
   "metadata": {
    "collapsed": false
   },
   "outputs": [],
   "source": [
    "inspect(head(rules, n = 3, by = \"confidence\"))"
   ]
  },
  {
   "cell_type": "markdown",
   "metadata": {},
   "source": [
    "**Activity 6: ** Draw a scatter plot for the generated transactions using measures 'support', 'lift' and use 'confidence' for shading."
   ]
  },
  {
   "cell_type": "code",
   "execution_count": null,
   "metadata": {
    "collapsed": false
   },
   "outputs": [],
   "source": [
    "library(\"arulesViz\")"
   ]
  },
  {
   "cell_type": "code",
   "execution_count": null,
   "metadata": {
    "collapsed": false
   },
   "outputs": [],
   "source": [
    "plot(rules, measure=c(\"support\", \"lift\"), shading=\"confidence\")"
   ]
  },
  {
   "cell_type": "markdown",
   "metadata": {},
   "source": [
    "**Activity 7: ** Draw a matrix plot for the generated transactions using measures 'confidence', 'lift'. Order the transactions."
   ]
  },
  {
   "cell_type": "code",
   "execution_count": null,
   "metadata": {
    "collapsed": false,
    "scrolled": true
   },
   "outputs": [],
   "source": [
    "plot(rules, method=\"matrix\", measure=c(\"lift\", \"confidence\"), control=list(reorder=TRUE))"
   ]
  },
  {
   "cell_type": "markdown",
   "metadata": {},
   "source": [
    "**Activity 8: ** Draw a graph for the generated transactions. Use control parameter to draw directed graph."
   ]
  },
  {
   "cell_type": "code",
   "execution_count": null,
   "metadata": {
    "collapsed": false
   },
   "outputs": [],
   "source": [
    "plot(head(rules,10), method=\"graph\", control=list(type=\"itemsets\"))"
   ]
  }
 ],
 "metadata": {
  "anaconda-cloud": {},
  "kernelspec": {
   "display_name": "R",
   "language": "R",
   "name": "ir"
  },
  "language_info": {
   "codemirror_mode": "r",
   "file_extension": ".r",
   "mimetype": "text/x-r-source",
   "name": "R",
   "pygments_lexer": "r",
   "version": "3.3.2"
  }
 },
 "nbformat": 4,
 "nbformat_minor": 1
}
